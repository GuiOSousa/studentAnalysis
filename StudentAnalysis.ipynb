{
  "nbformat": 4,
  "nbformat_minor": 0,
  "metadata": {
    "colab": {
      "provenance": [],
      "authorship_tag": "ABX9TyP4vwkfJLkjRXujxR7kZRKL",
      "include_colab_link": true
    },
    "kernelspec": {
      "name": "python3",
      "display_name": "Python 3"
    },
    "language_info": {
      "name": "python"
    }
  },
  "cells": [
    {
      "cell_type": "markdown",
      "metadata": {
        "id": "view-in-github",
        "colab_type": "text"
      },
      "source": [
        "<a href=\"https://colab.research.google.com/github/GuiOSousa/studentAnalysis/blob/main/StudentAnalysis.ipynb\" target=\"_parent\"><img src=\"https://colab.research.google.com/assets/colab-badge.svg\" alt=\"Open In Colab\"/></a>"
      ]
    },
    {
      "cell_type": "markdown",
      "source": [
        "# Introdução"
      ],
      "metadata": {
        "id": "AZqk4_ncMnEl"
      }
    },
    {
      "cell_type": "markdown",
      "source": [
        "O objetivo deste modelo é poupar o tempo de professores e indicar a eles os pontos de maior dificuldade de suas turmas.\n",
        "\n",
        "O modelo utiliza o Gemini 1.5 Pro para realizar suas análises"
      ],
      "metadata": {
        "id": "WgGK38gxMqLh"
      }
    },
    {
      "cell_type": "markdown",
      "source": [
        "#Configuração do Projeto"
      ],
      "metadata": {
        "id": "LBgiFxc31AZj"
      }
    },
    {
      "cell_type": "markdown",
      "source": [
        "###Neste tópico, criaremos a base do nosso projeto\n",
        "Executando as instalações necessárias e acessando os arquivos necessários no nosso Drive."
      ],
      "metadata": {
        "id": "ZoOvyh1PDiYN"
      }
    },
    {
      "cell_type": "code",
      "execution_count": 106,
      "metadata": {
        "id": "FUV_hMWRjAH0"
      },
      "outputs": [],
      "source": [
        "!pip install -q -U google-generativeai"
      ]
    },
    {
      "cell_type": "code",
      "source": [
        "from google.colab import drive\n",
        "drive.mount('/content/drive')"
      ],
      "metadata": {
        "colab": {
          "base_uri": "https://localhost:8080/"
        },
        "id": "-z8119cZjgQV",
        "outputId": "43f7d7d1-e646-4ec9-abaa-aea4a19295ca"
      },
      "execution_count": 107,
      "outputs": [
        {
          "output_type": "stream",
          "name": "stdout",
          "text": [
            "Drive already mounted at /content/drive; to attempt to forcibly remount, call drive.mount(\"/content/drive\", force_remount=True).\n"
          ]
        }
      ]
    },
    {
      "cell_type": "markdown",
      "source": [
        "#Configuração do Modelo"
      ],
      "metadata": {
        "id": "NzHc2XPh1Ix3"
      }
    },
    {
      "cell_type": "markdown",
      "source": [
        "###Neste tópico, acessaremos os recursos de Google GenerativeAI para criar nosso modelo\n",
        "\n"
      ],
      "metadata": {
        "id": "_0qZmQE0D85Z"
      }
    },
    {
      "cell_type": "markdown",
      "source": [
        "Acessando os recursos do Google GenerativeAI utilizando nossa API key (lembre-se de inserir sua chave nas váriaveis do Google Colab e permitir o acesso delas ao código)"
      ],
      "metadata": {
        "id": "--21gyYREbKp"
      }
    },
    {
      "cell_type": "code",
      "source": [
        "import google.generativeai as genai\n",
        "from google.colab import userdata\n",
        "\n",
        "GOOGLE_API_KEY = userdata.get('KEY')\n",
        "genai.configure(api_key=GOOGLE_API_KEY)"
      ],
      "metadata": {
        "id": "-_HhykahjEum"
      },
      "execution_count": 108,
      "outputs": []
    },
    {
      "cell_type": "markdown",
      "source": [
        "Escolhendo o modelo.\n",
        "\n",
        "O modelo escolhido foi o Gemini 1.5 pro, tendo em vista que não precisaremos alterar configurações de segurança e que ele apresentou melhores resultados que a versão 1.0 pro em testes anteriores neste projeto."
      ],
      "metadata": {
        "id": "ojBKKC_-EtHT"
      }
    },
    {
      "cell_type": "code",
      "source": [
        "model = genai.GenerativeModel(model_name= \"models/gemini-1.5-pro-latest\")"
      ],
      "metadata": {
        "id": "byA2qon1jPw2"
      },
      "execution_count": 109,
      "outputs": []
    },
    {
      "cell_type": "markdown",
      "source": [
        "# Acessando os Dados"
      ],
      "metadata": {
        "id": "Zq8CKPaR1PpC"
      }
    },
    {
      "cell_type": "markdown",
      "source": [
        "###Neste tópico, acessaremos nossa base de dados a partir do nosso Google Drive\n",
        "\n",
        "\n"
      ],
      "metadata": {
        "id": "6ltwksTMk2g6"
      }
    },
    {
      "cell_type": "markdown",
      "source": [
        "Para este passo, divimos nossos dados em duas planilhas: uma com os conteúdos de cada questão e outra com o desempenho dos alunos em cada questão.\n",
        "\n",
        "Podemos acessá-las através do caminho delas no nosso Google Drive\n",
        "\n",
        "Note que a linha comentada acessa o arquivo selecionado no input. Para fins de demonstração, utilizei um caminho fixo na váriavel \"file_path\", embora a linha comentada funcione perfeitamente."
      ],
      "metadata": {
        "id": "maeD6rdGFoqE"
      }
    },
    {
      "cell_type": "code",
      "source": [
        "# file_path = input(\"Digite o caminho do arquivo (a partir de 'Meu Drive'): \")\n",
        "file_path = \"Google AI Studio/NotasFake.xlsx\"\n",
        "full_path = '/content/drive/MyDrive/' + file_path"
      ],
      "metadata": {
        "id": "ZSWgBMF5kAm5"
      },
      "execution_count": 110,
      "outputs": []
    },
    {
      "cell_type": "code",
      "source": [
        "import pandas as pd\n",
        "\n",
        "data = pd.read_excel(full_path)\n",
        "\n",
        "data"
      ],
      "metadata": {
        "colab": {
          "base_uri": "https://localhost:8080/",
          "height": 363
        },
        "id": "_kfce5MSm7sY",
        "outputId": "934bcc42-8421-4f0f-a127-30bf6aeb7e05"
      },
      "execution_count": 111,
      "outputs": [
        {
          "output_type": "execute_result",
          "data": {
            "text/plain": [
              "   Questao     1     2     3     4     5\n",
              "0        1  1.00  1.00  0.75  0.50  1.00\n",
              "1        2  1.00  0.75  0.50  1.00  0.50\n",
              "2        3  0.50  0.00  1.00  1.00  0.75\n",
              "3        4  0.75  0.75  0.75  0.50  0.75\n",
              "4        5  1.00  0.75  1.00  0.75  0.75\n",
              "5        6  1.00  1.00  1.00  1.00  1.00\n",
              "6        7  0.75  0.75  1.00  0.75  0.50\n",
              "7        8  0.50  0.50  0.00  0.00  0.25\n",
              "8        9  0.50  0.00  0.25  0.00  0.00\n",
              "9       10  1.00  0.75  1.00  1.00  1.00"
            ],
            "text/html": [
              "\n",
              "  <div id=\"df-0ba066bd-61c6-429f-87c0-e950aba33ae9\" class=\"colab-df-container\">\n",
              "    <div>\n",
              "<style scoped>\n",
              "    .dataframe tbody tr th:only-of-type {\n",
              "        vertical-align: middle;\n",
              "    }\n",
              "\n",
              "    .dataframe tbody tr th {\n",
              "        vertical-align: top;\n",
              "    }\n",
              "\n",
              "    .dataframe thead th {\n",
              "        text-align: right;\n",
              "    }\n",
              "</style>\n",
              "<table border=\"1\" class=\"dataframe\">\n",
              "  <thead>\n",
              "    <tr style=\"text-align: right;\">\n",
              "      <th></th>\n",
              "      <th>Questao</th>\n",
              "      <th>1</th>\n",
              "      <th>2</th>\n",
              "      <th>3</th>\n",
              "      <th>4</th>\n",
              "      <th>5</th>\n",
              "    </tr>\n",
              "  </thead>\n",
              "  <tbody>\n",
              "    <tr>\n",
              "      <th>0</th>\n",
              "      <td>1</td>\n",
              "      <td>1.00</td>\n",
              "      <td>1.00</td>\n",
              "      <td>0.75</td>\n",
              "      <td>0.50</td>\n",
              "      <td>1.00</td>\n",
              "    </tr>\n",
              "    <tr>\n",
              "      <th>1</th>\n",
              "      <td>2</td>\n",
              "      <td>1.00</td>\n",
              "      <td>0.75</td>\n",
              "      <td>0.50</td>\n",
              "      <td>1.00</td>\n",
              "      <td>0.50</td>\n",
              "    </tr>\n",
              "    <tr>\n",
              "      <th>2</th>\n",
              "      <td>3</td>\n",
              "      <td>0.50</td>\n",
              "      <td>0.00</td>\n",
              "      <td>1.00</td>\n",
              "      <td>1.00</td>\n",
              "      <td>0.75</td>\n",
              "    </tr>\n",
              "    <tr>\n",
              "      <th>3</th>\n",
              "      <td>4</td>\n",
              "      <td>0.75</td>\n",
              "      <td>0.75</td>\n",
              "      <td>0.75</td>\n",
              "      <td>0.50</td>\n",
              "      <td>0.75</td>\n",
              "    </tr>\n",
              "    <tr>\n",
              "      <th>4</th>\n",
              "      <td>5</td>\n",
              "      <td>1.00</td>\n",
              "      <td>0.75</td>\n",
              "      <td>1.00</td>\n",
              "      <td>0.75</td>\n",
              "      <td>0.75</td>\n",
              "    </tr>\n",
              "    <tr>\n",
              "      <th>5</th>\n",
              "      <td>6</td>\n",
              "      <td>1.00</td>\n",
              "      <td>1.00</td>\n",
              "      <td>1.00</td>\n",
              "      <td>1.00</td>\n",
              "      <td>1.00</td>\n",
              "    </tr>\n",
              "    <tr>\n",
              "      <th>6</th>\n",
              "      <td>7</td>\n",
              "      <td>0.75</td>\n",
              "      <td>0.75</td>\n",
              "      <td>1.00</td>\n",
              "      <td>0.75</td>\n",
              "      <td>0.50</td>\n",
              "    </tr>\n",
              "    <tr>\n",
              "      <th>7</th>\n",
              "      <td>8</td>\n",
              "      <td>0.50</td>\n",
              "      <td>0.50</td>\n",
              "      <td>0.00</td>\n",
              "      <td>0.00</td>\n",
              "      <td>0.25</td>\n",
              "    </tr>\n",
              "    <tr>\n",
              "      <th>8</th>\n",
              "      <td>9</td>\n",
              "      <td>0.50</td>\n",
              "      <td>0.00</td>\n",
              "      <td>0.25</td>\n",
              "      <td>0.00</td>\n",
              "      <td>0.00</td>\n",
              "    </tr>\n",
              "    <tr>\n",
              "      <th>9</th>\n",
              "      <td>10</td>\n",
              "      <td>1.00</td>\n",
              "      <td>0.75</td>\n",
              "      <td>1.00</td>\n",
              "      <td>1.00</td>\n",
              "      <td>1.00</td>\n",
              "    </tr>\n",
              "  </tbody>\n",
              "</table>\n",
              "</div>\n",
              "    <div class=\"colab-df-buttons\">\n",
              "\n",
              "  <div class=\"colab-df-container\">\n",
              "    <button class=\"colab-df-convert\" onclick=\"convertToInteractive('df-0ba066bd-61c6-429f-87c0-e950aba33ae9')\"\n",
              "            title=\"Convert this dataframe to an interactive table.\"\n",
              "            style=\"display:none;\">\n",
              "\n",
              "  <svg xmlns=\"http://www.w3.org/2000/svg\" height=\"24px\" viewBox=\"0 -960 960 960\">\n",
              "    <path d=\"M120-120v-720h720v720H120Zm60-500h600v-160H180v160Zm220 220h160v-160H400v160Zm0 220h160v-160H400v160ZM180-400h160v-160H180v160Zm440 0h160v-160H620v160ZM180-180h160v-160H180v160Zm440 0h160v-160H620v160Z\"/>\n",
              "  </svg>\n",
              "    </button>\n",
              "\n",
              "  <style>\n",
              "    .colab-df-container {\n",
              "      display:flex;\n",
              "      gap: 12px;\n",
              "    }\n",
              "\n",
              "    .colab-df-convert {\n",
              "      background-color: #E8F0FE;\n",
              "      border: none;\n",
              "      border-radius: 50%;\n",
              "      cursor: pointer;\n",
              "      display: none;\n",
              "      fill: #1967D2;\n",
              "      height: 32px;\n",
              "      padding: 0 0 0 0;\n",
              "      width: 32px;\n",
              "    }\n",
              "\n",
              "    .colab-df-convert:hover {\n",
              "      background-color: #E2EBFA;\n",
              "      box-shadow: 0px 1px 2px rgba(60, 64, 67, 0.3), 0px 1px 3px 1px rgba(60, 64, 67, 0.15);\n",
              "      fill: #174EA6;\n",
              "    }\n",
              "\n",
              "    .colab-df-buttons div {\n",
              "      margin-bottom: 4px;\n",
              "    }\n",
              "\n",
              "    [theme=dark] .colab-df-convert {\n",
              "      background-color: #3B4455;\n",
              "      fill: #D2E3FC;\n",
              "    }\n",
              "\n",
              "    [theme=dark] .colab-df-convert:hover {\n",
              "      background-color: #434B5C;\n",
              "      box-shadow: 0px 1px 3px 1px rgba(0, 0, 0, 0.15);\n",
              "      filter: drop-shadow(0px 1px 2px rgba(0, 0, 0, 0.3));\n",
              "      fill: #FFFFFF;\n",
              "    }\n",
              "  </style>\n",
              "\n",
              "    <script>\n",
              "      const buttonEl =\n",
              "        document.querySelector('#df-0ba066bd-61c6-429f-87c0-e950aba33ae9 button.colab-df-convert');\n",
              "      buttonEl.style.display =\n",
              "        google.colab.kernel.accessAllowed ? 'block' : 'none';\n",
              "\n",
              "      async function convertToInteractive(key) {\n",
              "        const element = document.querySelector('#df-0ba066bd-61c6-429f-87c0-e950aba33ae9');\n",
              "        const dataTable =\n",
              "          await google.colab.kernel.invokeFunction('convertToInteractive',\n",
              "                                                    [key], {});\n",
              "        if (!dataTable) return;\n",
              "\n",
              "        const docLinkHtml = 'Like what you see? Visit the ' +\n",
              "          '<a target=\"_blank\" href=https://colab.research.google.com/notebooks/data_table.ipynb>data table notebook</a>'\n",
              "          + ' to learn more about interactive tables.';\n",
              "        element.innerHTML = '';\n",
              "        dataTable['output_type'] = 'display_data';\n",
              "        await google.colab.output.renderOutput(dataTable, element);\n",
              "        const docLink = document.createElement('div');\n",
              "        docLink.innerHTML = docLinkHtml;\n",
              "        element.appendChild(docLink);\n",
              "      }\n",
              "    </script>\n",
              "  </div>\n",
              "\n",
              "\n",
              "<div id=\"df-00c9c380-95db-47db-8901-0ead14a0888b\">\n",
              "  <button class=\"colab-df-quickchart\" onclick=\"quickchart('df-00c9c380-95db-47db-8901-0ead14a0888b')\"\n",
              "            title=\"Suggest charts\"\n",
              "            style=\"display:none;\">\n",
              "\n",
              "<svg xmlns=\"http://www.w3.org/2000/svg\" height=\"24px\"viewBox=\"0 0 24 24\"\n",
              "     width=\"24px\">\n",
              "    <g>\n",
              "        <path d=\"M19 3H5c-1.1 0-2 .9-2 2v14c0 1.1.9 2 2 2h14c1.1 0 2-.9 2-2V5c0-1.1-.9-2-2-2zM9 17H7v-7h2v7zm4 0h-2V7h2v10zm4 0h-2v-4h2v4z\"/>\n",
              "    </g>\n",
              "</svg>\n",
              "  </button>\n",
              "\n",
              "<style>\n",
              "  .colab-df-quickchart {\n",
              "      --bg-color: #E8F0FE;\n",
              "      --fill-color: #1967D2;\n",
              "      --hover-bg-color: #E2EBFA;\n",
              "      --hover-fill-color: #174EA6;\n",
              "      --disabled-fill-color: #AAA;\n",
              "      --disabled-bg-color: #DDD;\n",
              "  }\n",
              "\n",
              "  [theme=dark] .colab-df-quickchart {\n",
              "      --bg-color: #3B4455;\n",
              "      --fill-color: #D2E3FC;\n",
              "      --hover-bg-color: #434B5C;\n",
              "      --hover-fill-color: #FFFFFF;\n",
              "      --disabled-bg-color: #3B4455;\n",
              "      --disabled-fill-color: #666;\n",
              "  }\n",
              "\n",
              "  .colab-df-quickchart {\n",
              "    background-color: var(--bg-color);\n",
              "    border: none;\n",
              "    border-radius: 50%;\n",
              "    cursor: pointer;\n",
              "    display: none;\n",
              "    fill: var(--fill-color);\n",
              "    height: 32px;\n",
              "    padding: 0;\n",
              "    width: 32px;\n",
              "  }\n",
              "\n",
              "  .colab-df-quickchart:hover {\n",
              "    background-color: var(--hover-bg-color);\n",
              "    box-shadow: 0 1px 2px rgba(60, 64, 67, 0.3), 0 1px 3px 1px rgba(60, 64, 67, 0.15);\n",
              "    fill: var(--button-hover-fill-color);\n",
              "  }\n",
              "\n",
              "  .colab-df-quickchart-complete:disabled,\n",
              "  .colab-df-quickchart-complete:disabled:hover {\n",
              "    background-color: var(--disabled-bg-color);\n",
              "    fill: var(--disabled-fill-color);\n",
              "    box-shadow: none;\n",
              "  }\n",
              "\n",
              "  .colab-df-spinner {\n",
              "    border: 2px solid var(--fill-color);\n",
              "    border-color: transparent;\n",
              "    border-bottom-color: var(--fill-color);\n",
              "    animation:\n",
              "      spin 1s steps(1) infinite;\n",
              "  }\n",
              "\n",
              "  @keyframes spin {\n",
              "    0% {\n",
              "      border-color: transparent;\n",
              "      border-bottom-color: var(--fill-color);\n",
              "      border-left-color: var(--fill-color);\n",
              "    }\n",
              "    20% {\n",
              "      border-color: transparent;\n",
              "      border-left-color: var(--fill-color);\n",
              "      border-top-color: var(--fill-color);\n",
              "    }\n",
              "    30% {\n",
              "      border-color: transparent;\n",
              "      border-left-color: var(--fill-color);\n",
              "      border-top-color: var(--fill-color);\n",
              "      border-right-color: var(--fill-color);\n",
              "    }\n",
              "    40% {\n",
              "      border-color: transparent;\n",
              "      border-right-color: var(--fill-color);\n",
              "      border-top-color: var(--fill-color);\n",
              "    }\n",
              "    60% {\n",
              "      border-color: transparent;\n",
              "      border-right-color: var(--fill-color);\n",
              "    }\n",
              "    80% {\n",
              "      border-color: transparent;\n",
              "      border-right-color: var(--fill-color);\n",
              "      border-bottom-color: var(--fill-color);\n",
              "    }\n",
              "    90% {\n",
              "      border-color: transparent;\n",
              "      border-bottom-color: var(--fill-color);\n",
              "    }\n",
              "  }\n",
              "</style>\n",
              "\n",
              "  <script>\n",
              "    async function quickchart(key) {\n",
              "      const quickchartButtonEl =\n",
              "        document.querySelector('#' + key + ' button');\n",
              "      quickchartButtonEl.disabled = true;  // To prevent multiple clicks.\n",
              "      quickchartButtonEl.classList.add('colab-df-spinner');\n",
              "      try {\n",
              "        const charts = await google.colab.kernel.invokeFunction(\n",
              "            'suggestCharts', [key], {});\n",
              "      } catch (error) {\n",
              "        console.error('Error during call to suggestCharts:', error);\n",
              "      }\n",
              "      quickchartButtonEl.classList.remove('colab-df-spinner');\n",
              "      quickchartButtonEl.classList.add('colab-df-quickchart-complete');\n",
              "    }\n",
              "    (() => {\n",
              "      let quickchartButtonEl =\n",
              "        document.querySelector('#df-00c9c380-95db-47db-8901-0ead14a0888b button');\n",
              "      quickchartButtonEl.style.display =\n",
              "        google.colab.kernel.accessAllowed ? 'block' : 'none';\n",
              "    })();\n",
              "  </script>\n",
              "</div>\n",
              "\n",
              "  <div id=\"id_b970d693-f624-45a4-9715-94f3fc456d8f\">\n",
              "    <style>\n",
              "      .colab-df-generate {\n",
              "        background-color: #E8F0FE;\n",
              "        border: none;\n",
              "        border-radius: 50%;\n",
              "        cursor: pointer;\n",
              "        display: none;\n",
              "        fill: #1967D2;\n",
              "        height: 32px;\n",
              "        padding: 0 0 0 0;\n",
              "        width: 32px;\n",
              "      }\n",
              "\n",
              "      .colab-df-generate:hover {\n",
              "        background-color: #E2EBFA;\n",
              "        box-shadow: 0px 1px 2px rgba(60, 64, 67, 0.3), 0px 1px 3px 1px rgba(60, 64, 67, 0.15);\n",
              "        fill: #174EA6;\n",
              "      }\n",
              "\n",
              "      [theme=dark] .colab-df-generate {\n",
              "        background-color: #3B4455;\n",
              "        fill: #D2E3FC;\n",
              "      }\n",
              "\n",
              "      [theme=dark] .colab-df-generate:hover {\n",
              "        background-color: #434B5C;\n",
              "        box-shadow: 0px 1px 3px 1px rgba(0, 0, 0, 0.15);\n",
              "        filter: drop-shadow(0px 1px 2px rgba(0, 0, 0, 0.3));\n",
              "        fill: #FFFFFF;\n",
              "      }\n",
              "    </style>\n",
              "    <button class=\"colab-df-generate\" onclick=\"generateWithVariable('data')\"\n",
              "            title=\"Generate code using this dataframe.\"\n",
              "            style=\"display:none;\">\n",
              "\n",
              "  <svg xmlns=\"http://www.w3.org/2000/svg\" height=\"24px\"viewBox=\"0 0 24 24\"\n",
              "       width=\"24px\">\n",
              "    <path d=\"M7,19H8.4L18.45,9,17,7.55,7,17.6ZM5,21V16.75L18.45,3.32a2,2,0,0,1,2.83,0l1.4,1.43a1.91,1.91,0,0,1,.58,1.4,1.91,1.91,0,0,1-.58,1.4L9.25,21ZM18.45,9,17,7.55Zm-12,3A5.31,5.31,0,0,0,4.9,8.1,5.31,5.31,0,0,0,1,6.5,5.31,5.31,0,0,0,4.9,4.9,5.31,5.31,0,0,0,6.5,1,5.31,5.31,0,0,0,8.1,4.9,5.31,5.31,0,0,0,12,6.5,5.46,5.46,0,0,0,6.5,12Z\"/>\n",
              "  </svg>\n",
              "    </button>\n",
              "    <script>\n",
              "      (() => {\n",
              "      const buttonEl =\n",
              "        document.querySelector('#id_b970d693-f624-45a4-9715-94f3fc456d8f button.colab-df-generate');\n",
              "      buttonEl.style.display =\n",
              "        google.colab.kernel.accessAllowed ? 'block' : 'none';\n",
              "\n",
              "      buttonEl.onclick = () => {\n",
              "        google.colab.notebook.generateWithVariable('data');\n",
              "      }\n",
              "      })();\n",
              "    </script>\n",
              "  </div>\n",
              "\n",
              "    </div>\n",
              "  </div>\n"
            ],
            "application/vnd.google.colaboratory.intrinsic+json": {
              "type": "dataframe",
              "variable_name": "data",
              "summary": "{\n  \"name\": \"data\",\n  \"rows\": 10,\n  \"fields\": [\n    {\n      \"column\": \"Questao\",\n      \"properties\": {\n        \"dtype\": \"number\",\n        \"std\": 3,\n        \"min\": 1,\n        \"max\": 10,\n        \"num_unique_values\": 10,\n        \"samples\": [\n          9,\n          2,\n          6\n        ],\n        \"semantic_type\": \"\",\n        \"description\": \"\"\n      }\n    },\n    {\n      \"column\": 1,\n      \"properties\": {\n        \"dtype\": \"number\",\n        \"std\": 0.22973414586817037,\n        \"min\": 0.5,\n        \"max\": 1.0,\n        \"num_unique_values\": 3,\n        \"samples\": [\n          1.0,\n          0.5,\n          0.75\n        ],\n        \"semantic_type\": \"\",\n        \"description\": \"\"\n      }\n    },\n    {\n      \"column\": 2,\n      \"properties\": {\n        \"dtype\": \"number\",\n        \"std\": 0.35843021946010944,\n        \"min\": 0.0,\n        \"max\": 1.0,\n        \"num_unique_values\": 4,\n        \"samples\": [\n          0.75,\n          0.5,\n          1.0\n        ],\n        \"semantic_type\": \"\",\n        \"description\": \"\"\n      }\n    },\n    {\n      \"column\": 3,\n      \"properties\": {\n        \"dtype\": \"number\",\n        \"std\": 0.362284418654736,\n        \"min\": 0.0,\n        \"max\": 1.0,\n        \"num_unique_values\": 5,\n        \"samples\": [\n          0.5,\n          0.25,\n          1.0\n        ],\n        \"semantic_type\": \"\",\n        \"description\": \"\"\n      }\n    },\n    {\n      \"column\": 4,\n      \"properties\": {\n        \"dtype\": \"number\",\n        \"std\": 0.39440531887330776,\n        \"min\": 0.0,\n        \"max\": 1.0,\n        \"num_unique_values\": 4,\n        \"samples\": [\n          1.0,\n          0.0,\n          0.5\n        ],\n        \"semantic_type\": \"\",\n        \"description\": \"\"\n      }\n    },\n    {\n      \"column\": 5,\n      \"properties\": {\n        \"dtype\": \"number\",\n        \"std\": 0.3374742788552765,\n        \"min\": 0.0,\n        \"max\": 1.0,\n        \"num_unique_values\": 5,\n        \"samples\": [\n          0.5,\n          0.0,\n          0.75\n        ],\n        \"semantic_type\": \"\",\n        \"description\": \"\"\n      }\n    }\n  ]\n}"
            }
          },
          "metadata": {},
          "execution_count": 111
        }
      ]
    },
    {
      "cell_type": "code",
      "source": [
        "#file_path = input(\"Digite o caminho do arquivo (a partir de 'Meu Drive'): \")\n",
        "file_path = \"Google AI Studio/ConteudosFake.xlsx\"\n",
        "full_path = '/content/drive/MyDrive/' + file_path"
      ],
      "metadata": {
        "id": "2WBKPVR7pkfu"
      },
      "execution_count": 112,
      "outputs": []
    },
    {
      "cell_type": "code",
      "source": [
        "content = pd.read_excel(full_path)\n",
        "\n",
        "content"
      ],
      "metadata": {
        "colab": {
          "base_uri": "https://localhost:8080/",
          "height": 363
        },
        "id": "iLbjOE9ookbo",
        "outputId": "9530d09e-f3d5-42fb-8459-da8fcf17d1a7"
      },
      "execution_count": 113,
      "outputs": [
        {
          "output_type": "execute_result",
          "data": {
            "text/plain": [
              "   Questao                       Conteudo\n",
              "0        1        Operadores condicionais\n",
              "1        2                            For\n",
              "2        3                          While\n",
              "3        4                    For e While\n",
              "4        5        Operadores condicionais\n",
              "5        6         Operadores matemáticos\n",
              "6        7  Operadores condicionais e For\n",
              "7        8                        DoWhile\n",
              "8        9                While e DoWhile\n",
              "9       10   For e Operadores matemáticos"
            ],
            "text/html": [
              "\n",
              "  <div id=\"df-5a5bb940-c219-44c4-8e9a-bafa3249f280\" class=\"colab-df-container\">\n",
              "    <div>\n",
              "<style scoped>\n",
              "    .dataframe tbody tr th:only-of-type {\n",
              "        vertical-align: middle;\n",
              "    }\n",
              "\n",
              "    .dataframe tbody tr th {\n",
              "        vertical-align: top;\n",
              "    }\n",
              "\n",
              "    .dataframe thead th {\n",
              "        text-align: right;\n",
              "    }\n",
              "</style>\n",
              "<table border=\"1\" class=\"dataframe\">\n",
              "  <thead>\n",
              "    <tr style=\"text-align: right;\">\n",
              "      <th></th>\n",
              "      <th>Questao</th>\n",
              "      <th>Conteudo</th>\n",
              "    </tr>\n",
              "  </thead>\n",
              "  <tbody>\n",
              "    <tr>\n",
              "      <th>0</th>\n",
              "      <td>1</td>\n",
              "      <td>Operadores condicionais</td>\n",
              "    </tr>\n",
              "    <tr>\n",
              "      <th>1</th>\n",
              "      <td>2</td>\n",
              "      <td>For</td>\n",
              "    </tr>\n",
              "    <tr>\n",
              "      <th>2</th>\n",
              "      <td>3</td>\n",
              "      <td>While</td>\n",
              "    </tr>\n",
              "    <tr>\n",
              "      <th>3</th>\n",
              "      <td>4</td>\n",
              "      <td>For e While</td>\n",
              "    </tr>\n",
              "    <tr>\n",
              "      <th>4</th>\n",
              "      <td>5</td>\n",
              "      <td>Operadores condicionais</td>\n",
              "    </tr>\n",
              "    <tr>\n",
              "      <th>5</th>\n",
              "      <td>6</td>\n",
              "      <td>Operadores matemáticos</td>\n",
              "    </tr>\n",
              "    <tr>\n",
              "      <th>6</th>\n",
              "      <td>7</td>\n",
              "      <td>Operadores condicionais e For</td>\n",
              "    </tr>\n",
              "    <tr>\n",
              "      <th>7</th>\n",
              "      <td>8</td>\n",
              "      <td>DoWhile</td>\n",
              "    </tr>\n",
              "    <tr>\n",
              "      <th>8</th>\n",
              "      <td>9</td>\n",
              "      <td>While e DoWhile</td>\n",
              "    </tr>\n",
              "    <tr>\n",
              "      <th>9</th>\n",
              "      <td>10</td>\n",
              "      <td>For e Operadores matemáticos</td>\n",
              "    </tr>\n",
              "  </tbody>\n",
              "</table>\n",
              "</div>\n",
              "    <div class=\"colab-df-buttons\">\n",
              "\n",
              "  <div class=\"colab-df-container\">\n",
              "    <button class=\"colab-df-convert\" onclick=\"convertToInteractive('df-5a5bb940-c219-44c4-8e9a-bafa3249f280')\"\n",
              "            title=\"Convert this dataframe to an interactive table.\"\n",
              "            style=\"display:none;\">\n",
              "\n",
              "  <svg xmlns=\"http://www.w3.org/2000/svg\" height=\"24px\" viewBox=\"0 -960 960 960\">\n",
              "    <path d=\"M120-120v-720h720v720H120Zm60-500h600v-160H180v160Zm220 220h160v-160H400v160Zm0 220h160v-160H400v160ZM180-400h160v-160H180v160Zm440 0h160v-160H620v160ZM180-180h160v-160H180v160Zm440 0h160v-160H620v160Z\"/>\n",
              "  </svg>\n",
              "    </button>\n",
              "\n",
              "  <style>\n",
              "    .colab-df-container {\n",
              "      display:flex;\n",
              "      gap: 12px;\n",
              "    }\n",
              "\n",
              "    .colab-df-convert {\n",
              "      background-color: #E8F0FE;\n",
              "      border: none;\n",
              "      border-radius: 50%;\n",
              "      cursor: pointer;\n",
              "      display: none;\n",
              "      fill: #1967D2;\n",
              "      height: 32px;\n",
              "      padding: 0 0 0 0;\n",
              "      width: 32px;\n",
              "    }\n",
              "\n",
              "    .colab-df-convert:hover {\n",
              "      background-color: #E2EBFA;\n",
              "      box-shadow: 0px 1px 2px rgba(60, 64, 67, 0.3), 0px 1px 3px 1px rgba(60, 64, 67, 0.15);\n",
              "      fill: #174EA6;\n",
              "    }\n",
              "\n",
              "    .colab-df-buttons div {\n",
              "      margin-bottom: 4px;\n",
              "    }\n",
              "\n",
              "    [theme=dark] .colab-df-convert {\n",
              "      background-color: #3B4455;\n",
              "      fill: #D2E3FC;\n",
              "    }\n",
              "\n",
              "    [theme=dark] .colab-df-convert:hover {\n",
              "      background-color: #434B5C;\n",
              "      box-shadow: 0px 1px 3px 1px rgba(0, 0, 0, 0.15);\n",
              "      filter: drop-shadow(0px 1px 2px rgba(0, 0, 0, 0.3));\n",
              "      fill: #FFFFFF;\n",
              "    }\n",
              "  </style>\n",
              "\n",
              "    <script>\n",
              "      const buttonEl =\n",
              "        document.querySelector('#df-5a5bb940-c219-44c4-8e9a-bafa3249f280 button.colab-df-convert');\n",
              "      buttonEl.style.display =\n",
              "        google.colab.kernel.accessAllowed ? 'block' : 'none';\n",
              "\n",
              "      async function convertToInteractive(key) {\n",
              "        const element = document.querySelector('#df-5a5bb940-c219-44c4-8e9a-bafa3249f280');\n",
              "        const dataTable =\n",
              "          await google.colab.kernel.invokeFunction('convertToInteractive',\n",
              "                                                    [key], {});\n",
              "        if (!dataTable) return;\n",
              "\n",
              "        const docLinkHtml = 'Like what you see? Visit the ' +\n",
              "          '<a target=\"_blank\" href=https://colab.research.google.com/notebooks/data_table.ipynb>data table notebook</a>'\n",
              "          + ' to learn more about interactive tables.';\n",
              "        element.innerHTML = '';\n",
              "        dataTable['output_type'] = 'display_data';\n",
              "        await google.colab.output.renderOutput(dataTable, element);\n",
              "        const docLink = document.createElement('div');\n",
              "        docLink.innerHTML = docLinkHtml;\n",
              "        element.appendChild(docLink);\n",
              "      }\n",
              "    </script>\n",
              "  </div>\n",
              "\n",
              "\n",
              "<div id=\"df-2e4ba539-f469-4d5d-9d7c-720ac6bfdb2c\">\n",
              "  <button class=\"colab-df-quickchart\" onclick=\"quickchart('df-2e4ba539-f469-4d5d-9d7c-720ac6bfdb2c')\"\n",
              "            title=\"Suggest charts\"\n",
              "            style=\"display:none;\">\n",
              "\n",
              "<svg xmlns=\"http://www.w3.org/2000/svg\" height=\"24px\"viewBox=\"0 0 24 24\"\n",
              "     width=\"24px\">\n",
              "    <g>\n",
              "        <path d=\"M19 3H5c-1.1 0-2 .9-2 2v14c0 1.1.9 2 2 2h14c1.1 0 2-.9 2-2V5c0-1.1-.9-2-2-2zM9 17H7v-7h2v7zm4 0h-2V7h2v10zm4 0h-2v-4h2v4z\"/>\n",
              "    </g>\n",
              "</svg>\n",
              "  </button>\n",
              "\n",
              "<style>\n",
              "  .colab-df-quickchart {\n",
              "      --bg-color: #E8F0FE;\n",
              "      --fill-color: #1967D2;\n",
              "      --hover-bg-color: #E2EBFA;\n",
              "      --hover-fill-color: #174EA6;\n",
              "      --disabled-fill-color: #AAA;\n",
              "      --disabled-bg-color: #DDD;\n",
              "  }\n",
              "\n",
              "  [theme=dark] .colab-df-quickchart {\n",
              "      --bg-color: #3B4455;\n",
              "      --fill-color: #D2E3FC;\n",
              "      --hover-bg-color: #434B5C;\n",
              "      --hover-fill-color: #FFFFFF;\n",
              "      --disabled-bg-color: #3B4455;\n",
              "      --disabled-fill-color: #666;\n",
              "  }\n",
              "\n",
              "  .colab-df-quickchart {\n",
              "    background-color: var(--bg-color);\n",
              "    border: none;\n",
              "    border-radius: 50%;\n",
              "    cursor: pointer;\n",
              "    display: none;\n",
              "    fill: var(--fill-color);\n",
              "    height: 32px;\n",
              "    padding: 0;\n",
              "    width: 32px;\n",
              "  }\n",
              "\n",
              "  .colab-df-quickchart:hover {\n",
              "    background-color: var(--hover-bg-color);\n",
              "    box-shadow: 0 1px 2px rgba(60, 64, 67, 0.3), 0 1px 3px 1px rgba(60, 64, 67, 0.15);\n",
              "    fill: var(--button-hover-fill-color);\n",
              "  }\n",
              "\n",
              "  .colab-df-quickchart-complete:disabled,\n",
              "  .colab-df-quickchart-complete:disabled:hover {\n",
              "    background-color: var(--disabled-bg-color);\n",
              "    fill: var(--disabled-fill-color);\n",
              "    box-shadow: none;\n",
              "  }\n",
              "\n",
              "  .colab-df-spinner {\n",
              "    border: 2px solid var(--fill-color);\n",
              "    border-color: transparent;\n",
              "    border-bottom-color: var(--fill-color);\n",
              "    animation:\n",
              "      spin 1s steps(1) infinite;\n",
              "  }\n",
              "\n",
              "  @keyframes spin {\n",
              "    0% {\n",
              "      border-color: transparent;\n",
              "      border-bottom-color: var(--fill-color);\n",
              "      border-left-color: var(--fill-color);\n",
              "    }\n",
              "    20% {\n",
              "      border-color: transparent;\n",
              "      border-left-color: var(--fill-color);\n",
              "      border-top-color: var(--fill-color);\n",
              "    }\n",
              "    30% {\n",
              "      border-color: transparent;\n",
              "      border-left-color: var(--fill-color);\n",
              "      border-top-color: var(--fill-color);\n",
              "      border-right-color: var(--fill-color);\n",
              "    }\n",
              "    40% {\n",
              "      border-color: transparent;\n",
              "      border-right-color: var(--fill-color);\n",
              "      border-top-color: var(--fill-color);\n",
              "    }\n",
              "    60% {\n",
              "      border-color: transparent;\n",
              "      border-right-color: var(--fill-color);\n",
              "    }\n",
              "    80% {\n",
              "      border-color: transparent;\n",
              "      border-right-color: var(--fill-color);\n",
              "      border-bottom-color: var(--fill-color);\n",
              "    }\n",
              "    90% {\n",
              "      border-color: transparent;\n",
              "      border-bottom-color: var(--fill-color);\n",
              "    }\n",
              "  }\n",
              "</style>\n",
              "\n",
              "  <script>\n",
              "    async function quickchart(key) {\n",
              "      const quickchartButtonEl =\n",
              "        document.querySelector('#' + key + ' button');\n",
              "      quickchartButtonEl.disabled = true;  // To prevent multiple clicks.\n",
              "      quickchartButtonEl.classList.add('colab-df-spinner');\n",
              "      try {\n",
              "        const charts = await google.colab.kernel.invokeFunction(\n",
              "            'suggestCharts', [key], {});\n",
              "      } catch (error) {\n",
              "        console.error('Error during call to suggestCharts:', error);\n",
              "      }\n",
              "      quickchartButtonEl.classList.remove('colab-df-spinner');\n",
              "      quickchartButtonEl.classList.add('colab-df-quickchart-complete');\n",
              "    }\n",
              "    (() => {\n",
              "      let quickchartButtonEl =\n",
              "        document.querySelector('#df-2e4ba539-f469-4d5d-9d7c-720ac6bfdb2c button');\n",
              "      quickchartButtonEl.style.display =\n",
              "        google.colab.kernel.accessAllowed ? 'block' : 'none';\n",
              "    })();\n",
              "  </script>\n",
              "</div>\n",
              "\n",
              "  <div id=\"id_cf0f3e6f-58f0-4be0-a8be-8496819075d5\">\n",
              "    <style>\n",
              "      .colab-df-generate {\n",
              "        background-color: #E8F0FE;\n",
              "        border: none;\n",
              "        border-radius: 50%;\n",
              "        cursor: pointer;\n",
              "        display: none;\n",
              "        fill: #1967D2;\n",
              "        height: 32px;\n",
              "        padding: 0 0 0 0;\n",
              "        width: 32px;\n",
              "      }\n",
              "\n",
              "      .colab-df-generate:hover {\n",
              "        background-color: #E2EBFA;\n",
              "        box-shadow: 0px 1px 2px rgba(60, 64, 67, 0.3), 0px 1px 3px 1px rgba(60, 64, 67, 0.15);\n",
              "        fill: #174EA6;\n",
              "      }\n",
              "\n",
              "      [theme=dark] .colab-df-generate {\n",
              "        background-color: #3B4455;\n",
              "        fill: #D2E3FC;\n",
              "      }\n",
              "\n",
              "      [theme=dark] .colab-df-generate:hover {\n",
              "        background-color: #434B5C;\n",
              "        box-shadow: 0px 1px 3px 1px rgba(0, 0, 0, 0.15);\n",
              "        filter: drop-shadow(0px 1px 2px rgba(0, 0, 0, 0.3));\n",
              "        fill: #FFFFFF;\n",
              "      }\n",
              "    </style>\n",
              "    <button class=\"colab-df-generate\" onclick=\"generateWithVariable('content')\"\n",
              "            title=\"Generate code using this dataframe.\"\n",
              "            style=\"display:none;\">\n",
              "\n",
              "  <svg xmlns=\"http://www.w3.org/2000/svg\" height=\"24px\"viewBox=\"0 0 24 24\"\n",
              "       width=\"24px\">\n",
              "    <path d=\"M7,19H8.4L18.45,9,17,7.55,7,17.6ZM5,21V16.75L18.45,3.32a2,2,0,0,1,2.83,0l1.4,1.43a1.91,1.91,0,0,1,.58,1.4,1.91,1.91,0,0,1-.58,1.4L9.25,21ZM18.45,9,17,7.55Zm-12,3A5.31,5.31,0,0,0,4.9,8.1,5.31,5.31,0,0,0,1,6.5,5.31,5.31,0,0,0,4.9,4.9,5.31,5.31,0,0,0,6.5,1,5.31,5.31,0,0,0,8.1,4.9,5.31,5.31,0,0,0,12,6.5,5.46,5.46,0,0,0,6.5,12Z\"/>\n",
              "  </svg>\n",
              "    </button>\n",
              "    <script>\n",
              "      (() => {\n",
              "      const buttonEl =\n",
              "        document.querySelector('#id_cf0f3e6f-58f0-4be0-a8be-8496819075d5 button.colab-df-generate');\n",
              "      buttonEl.style.display =\n",
              "        google.colab.kernel.accessAllowed ? 'block' : 'none';\n",
              "\n",
              "      buttonEl.onclick = () => {\n",
              "        google.colab.notebook.generateWithVariable('content');\n",
              "      }\n",
              "      })();\n",
              "    </script>\n",
              "  </div>\n",
              "\n",
              "    </div>\n",
              "  </div>\n"
            ],
            "application/vnd.google.colaboratory.intrinsic+json": {
              "type": "dataframe",
              "variable_name": "content",
              "summary": "{\n  \"name\": \"content\",\n  \"rows\": 10,\n  \"fields\": [\n    {\n      \"column\": \"Questao\",\n      \"properties\": {\n        \"dtype\": \"number\",\n        \"std\": 3,\n        \"min\": 1,\n        \"max\": 10,\n        \"num_unique_values\": 10,\n        \"samples\": [\n          9,\n          2,\n          6\n        ],\n        \"semantic_type\": \"\",\n        \"description\": \"\"\n      }\n    },\n    {\n      \"column\": \"Conteudo\",\n      \"properties\": {\n        \"dtype\": \"string\",\n        \"num_unique_values\": 9,\n        \"samples\": [\n          \"While e DoWhile\",\n          \"For\",\n          \"Operadores condicionais e For\"\n        ],\n        \"semantic_type\": \"\",\n        \"description\": \"\"\n      }\n    }\n  ]\n}"
            }
          },
          "metadata": {},
          "execution_count": 113
        }
      ]
    },
    {
      "cell_type": "markdown",
      "source": [
        "No bloco a seguir, uniremos os dados das duas tabelas, substituindo o número da questão por sua respectiva lista de conteúdos.\n",
        "\n",
        "Note que não utilizo o DataFrame \"data\" diretamente, mas sim \"data.values\".\n",
        "\n",
        "Essa técnica demonstrou melhor interpretação pelo modelo, já que os dados que nos interessam estão em \"data.values\" (usar \".values\" nos retorna somente os valores da tabela, sem as identificações de linhas e colunas)"
      ],
      "metadata": {
        "id": "lNmc9IBxGeST"
      }
    },
    {
      "cell_type": "code",
      "source": [
        "for index in range(len(content.values)):\n",
        "  data.iloc[index, 0] = content.iloc[index, 1]\n",
        "\n",
        "data.values"
      ],
      "metadata": {
        "colab": {
          "base_uri": "https://localhost:8080/"
        },
        "id": "LvRJK3GG1f1F",
        "outputId": "0afd0da2-01f0-4eee-9099-9c4c53defdeb"
      },
      "execution_count": 114,
      "outputs": [
        {
          "output_type": "execute_result",
          "data": {
            "text/plain": [
              "array([['Operadores condicionais', 1.0, 1.0, 0.75, 0.5, 1.0],\n",
              "       ['For', 1.0, 0.75, 0.5, 1.0, 0.5],\n",
              "       ['While', 0.5, 0.0, 1.0, 1.0, 0.75],\n",
              "       ['For e While', 0.75, 0.75, 0.75, 0.5, 0.75],\n",
              "       ['Operadores condicionais', 1.0, 0.75, 1.0, 0.75, 0.75],\n",
              "       ['Operadores matemáticos', 1.0, 1.0, 1.0, 1.0, 1.0],\n",
              "       ['Operadores condicionais e For', 0.75, 0.75, 1.0, 0.75, 0.5],\n",
              "       ['DoWhile', 0.5, 0.5, 0.0, 0.0, 0.25],\n",
              "       ['While e DoWhile', 0.5, 0.0, 0.25, 0.0, 0.0],\n",
              "       ['For e Operadores matemáticos', 1.0, 0.75, 1.0, 1.0, 1.0]],\n",
              "      dtype=object)"
            ]
          },
          "metadata": {},
          "execution_count": 114
        }
      ]
    },
    {
      "cell_type": "markdown",
      "source": [
        "#Construindo o Prompt"
      ],
      "metadata": {
        "id": "OnhqbapgHhK0"
      }
    },
    {
      "cell_type": "markdown",
      "source": [
        "###Nesse tópico, comentarei um pouco sobre a construção do prompt utilizado"
      ],
      "metadata": {
        "id": "bdXVzBbKHki9"
      }
    },
    {
      "cell_type": "markdown",
      "source": [
        "Começamos o prompt introduzindo nosso modelo aos nossos dados, armazenados na váriavel \"data.values\"\n",
        "\n",
        "Em seguida, explico como os dados estão dispostos na minha tabela (interpretada como uma matriz, ou seja, um vetor composto de outros vetores) e passo algumas diretivas para meu prompt final\n",
        "\n",
        "Para finalizar, utilizo da técnica \"Few Shots\" para dar exemplos básicos de como espero que minha resposta seja retornada. A utilização de dois exemplos demonstrou um aumento significativo na qualidade e consistência da resposta do modelo."
      ],
      "metadata": {
        "id": "DP2WXnc0H4z2"
      }
    },
    {
      "cell_type": "code",
      "source": [
        "prompt = str(\"Tenho uma tabela que representa uma prova, feita por diferentes alunos. Quero que analise essa tabela:\\n\\n\" +\n",
        "str(data.values) +\n",
        "\"\"\"\\n\\nCada vetor corresponde a uma questão. O primeiro valor corresponde ao conteúdo da questão e os valores seguintes ao desempenho de cada aluno na questão\n",
        "Me diga a nota final de cada aluno, ajustada numa escala de 0 a 10\n",
        "De acordo com a lista de conteúdos de cada questão, me diga quais conteúdos são uma maior dificuldade para os alunos.\n",
        "Não inclua códigos na sua resposta\n",
        "\n",
        "Exemplo de entrada 1:\n",
        "  [[“Trigonometria e Teorema de Bhaskara”, 0.5, 0.25, 0.5],\n",
        "  [“Teorema de Bhaskara e Inequações”, 1, 0.75, 1],\n",
        "  [“Trigonometria e Inequações”], 0.25, 0,5, 0.5]\n",
        "\n",
        "Exemplo de saída 1:\n",
        "  A nota final de cada aluno foi:\n",
        "  Aluno nº 1: (0.5 + 1 + 0.25) /3 = 5,83\n",
        "  Aluno n° 2: (0.25 + 0.75 + 0.5) /3 = 5\n",
        "  Aluno nº 3: (0.5 + 1 + 0.5) /3 = 6,67\n",
        "\n",
        "  O tema de maior dificuldade foi trigonometria.\n",
        "  ** Insira uma sugestão ao professor de como lidar com essas dificuldades\n",
        "\n",
        "\n",
        "Exemplo de entrada 2:\n",
        "  [[“Globalização”, 1, 1, 0.75, 1, 1],\n",
        "  [“Movimentos de imigração”, 1, 0.75, 1, 1, 1],\n",
        "  [“Mudanças climáticas e Movimentos de imigração”], 1, 1, 1, 1, 1],\n",
        "  [“Mudanças climáticas e Topografia”, 0.25, 0.5, 0.5, 0, 0.75],\n",
        "  [“Intervenções socioeconômicas”, 0.75, 1, 0.75, 1, 1],\n",
        "  [“Migração de Cérebros”, 0.75, 0, 0, 0.5, 0.25],\n",
        "  [“Topografia e Movimentos de imigração”, 0.25, 0.5, 0.5, 0, 0.75]]\n",
        "\n",
        "Exemplo de saída 2:\n",
        "  A nota final de cada aluno foi:\n",
        "  Aluno nº 1: (1 + 1 + 1 + 0.25 + 0.75 + 0.75 + 0.25) /7 = 7,14\n",
        "  Aluno n° 2: (1 + 0.75 + 1 + 0.5 + 1 + 0 + 0.5) /7 = 6,79\n",
        "  ...\n",
        "  Aluno nº 5: (1 + 1 + 1 + 0.75 + 1 + 0.25 + 0.75) /7 = 8,21\n",
        "\n",
        "  Os temas de maior dificuldade foram topografia e migração de cérebros.\n",
        "  ** Insira uma sugestão ao professor de como lidar com essas dificuldades\n",
        "\n",
        "\"\"\")"
      ],
      "metadata": {
        "id": "xQFW9jxi7Mt_"
      },
      "execution_count": 115,
      "outputs": []
    },
    {
      "cell_type": "markdown",
      "source": [
        "Forma final do prompt:"
      ],
      "metadata": {
        "id": "OkAAgsNkH0eR"
      }
    },
    {
      "cell_type": "code",
      "source": [
        "print(prompt)"
      ],
      "metadata": {
        "colab": {
          "base_uri": "https://localhost:8080/"
        },
        "id": "q0cA_XsAz0U2",
        "outputId": "629d7e8d-9589-475e-eff2-e61b78f7629b"
      },
      "execution_count": 116,
      "outputs": [
        {
          "output_type": "stream",
          "name": "stdout",
          "text": [
            "Tenho uma tabela que representa uma prova, feita por diferentes alunos. Quero que analise essa tabela:\n",
            "\n",
            "[['Operadores condicionais' 1.0 1.0 0.75 0.5 1.0]\n",
            " ['For' 1.0 0.75 0.5 1.0 0.5]\n",
            " ['While' 0.5 0.0 1.0 1.0 0.75]\n",
            " ['For e While' 0.75 0.75 0.75 0.5 0.75]\n",
            " ['Operadores condicionais' 1.0 0.75 1.0 0.75 0.75]\n",
            " ['Operadores matemáticos' 1.0 1.0 1.0 1.0 1.0]\n",
            " ['Operadores condicionais e For' 0.75 0.75 1.0 0.75 0.5]\n",
            " ['DoWhile' 0.5 0.5 0.0 0.0 0.25]\n",
            " ['While e DoWhile' 0.5 0.0 0.25 0.0 0.0]\n",
            " ['For e Operadores matemáticos' 1.0 0.75 1.0 1.0 1.0]]\n",
            "\n",
            "Cada vetor corresponde a uma questão. O primeiro valor corresponde ao conteúdo da questão e os valores seguintes ao desempenho de cada aluno na questão\n",
            "Me diga a nota final de cada aluno, ajustada numa escala de 0 a 10\n",
            "De acordo com a lista de conteúdos de cada questão, me diga quais conteúdos são uma maior dificuldade para os alunos.\n",
            "Não inclua códigos na sua resposta\n",
            "\n",
            "Exemplo de entrada 1:\n",
            "  [[“Trigonometria e Teorema de Bhaskara”, 0.5, 0.25, 0.5],\n",
            "  [“Teorema de Bhaskara e Inequações”, 1, 0.75, 1],\n",
            "  [“Trigonometria e Inequações”], 0.25, 0,5, 0.5]\n",
            "\n",
            "Exemplo de saída 1:\n",
            "  A nota final de cada aluno foi:\n",
            "  Aluno nº 1: (0.5 + 1 + 0.25) /3 = 5,83\n",
            "  Aluno n° 2: (0.25 + 0.75 + 0.5) /3 = 5\n",
            "  Aluno nº 3: (0.5 + 1 + 0.5) /3 = 6,67\n",
            "\n",
            "  O tema de maior dificuldade foi trigonometria.\n",
            "  ** Insira uma sugestão ao professor de como lidar com essas dificuldades\n",
            "\n",
            "\n",
            "Exemplo de entrada 2:\n",
            "  [[“Globalização”, 1, 1, 0.75, 1, 1],\n",
            "  [“Movimentos de imigração”, 1, 0.75, 1, 1, 1],\n",
            "  [“Mudanças climáticas e Movimentos de imigração”], 1, 1, 1, 1, 1],\n",
            "  [“Mudanças climáticas e Topografia”, 0.25, 0.5, 0.5, 0, 0.75],\n",
            "  [“Intervenções socioeconômicas”, 0.75, 1, 0.75, 1, 1],\n",
            "  [“Migração de Cérebros”, 0.75, 0, 0, 0.5, 0.25],\n",
            "  [“Topografia e Movimentos de imigração”, 0.25, 0.5, 0.5, 0, 0.75]]\n",
            "\n",
            "Exemplo de saída 2:\n",
            "  A nota final de cada aluno foi:\n",
            "  Aluno nº 1: (1 + 1 + 1 + 0.25 + 0.75 + 0.75 + 0.25) /7 = 7,14\n",
            "  Aluno n° 2: (1 + 0.75 + 1 + 0.5 + 1 + 0 + 0.5) /7 = 6,79\n",
            "  ...\n",
            "  Aluno nº 5: (1 + 1 + 1 + 0.75 + 1 + 0.25 + 0.75) /7 = 8,21\n",
            "\n",
            "  Os temas de maior dificuldade foram topografia e migração de cérebros.\n",
            "  ** Insira uma sugestão ao professor de como lidar com essas dificuldades\n",
            "\n",
            "\n"
          ]
        }
      ]
    },
    {
      "cell_type": "markdown",
      "source": [
        "#Gerando a Resposta"
      ],
      "metadata": {
        "id": "26J7W3vTI67H"
      }
    },
    {
      "cell_type": "markdown",
      "source": [
        "###Nesse tópico, enviaremos o prompt montando anteriormente para nosso modelo"
      ],
      "metadata": {
        "id": "LwaKJA2ZI_Gs"
      }
    },
    {
      "cell_type": "code",
      "source": [
        "from IPython.display import display\n",
        "from IPython.display import Markdown\n",
        "\n",
        "response = model.generate_content(prompt)\n",
        "display(Markdown(response.text))"
      ],
      "metadata": {
        "colab": {
          "base_uri": "https://localhost:8080/",
          "height": 450
        },
        "id": "6sd0hgfxoZL0",
        "outputId": "3d907b4c-d7b1-4aa4-e24e-4b261b89dc63"
      },
      "execution_count": 117,
      "outputs": [
        {
          "output_type": "display_data",
          "data": {
            "text/plain": [
              "<IPython.core.display.Markdown object>"
            ],
            "text/markdown": "## Análise da Prova\n\n**Notas dos Alunos (0-10):**\n\n* Aluno 1: 8.5\n* Aluno 2: 6.5\n* Aluno 3: 7.75\n* Aluno 4: 6.75\n* Aluno 5: 7.5\n\n**Temas de Maior Dificuldade:**\n\n* DoWhile\n* While e DoWhile\n\n**Sugestão ao Professor:**\n\nOs alunos demonstram dificuldades com laços de repetição, principalmente  \"DoWhile\" e a combinação \"While e DoWhile\". Seria interessante **revisar esses conceitos**, com foco em suas particularidades e diferenças em relação a outros laços.\n\nAlgumas sugestões:\n\n* **Explicar a lógica de funcionamento do \"DoWhile\",** que executa o bloco de código pelo menos uma vez antes de verificar a condição, diferenciando-o do \"While\".\n* **Criar exercícios práticos** que reforcem a aplicação de cada tipo de laço, com exemplos claros e objetivos.\n* **Promover a resolução de problemas em grupo,** incentivando a colaboração e o aprendizado entre os alunos.\n* **Utilizar recursos visuais e analogias** para facilitar a compreensão dos conceitos, tornando o aprendizado mais intuitivo.\n* **Oferecer exemplos de código** que demonstrem as diferentes utilizações de \"While\" e \"DoWhile\", tanto individualmente quanto em conjunto.\n\nAo abordar esses pontos, o professor pode auxiliar os alunos a superarem as dificuldades com laços de repetição, consolidando o aprendizado de forma eficaz. \n"
          },
          "metadata": {}
        }
      ]
    },
    {
      "cell_type": "markdown",
      "source": [
        "#Conclusões\n",
        "\n",
        "O modelo conseguiu compreender bem o problema e nos deu análises bem satisfatórias. Com mais tempo e melhor polimento do código (pequenas verificações no prompt, mudanças no tratamento de dados e etc.) acredito que esta possa ser uma ferramenta muito útil no dia a dia de professores de qualquer área de ensino."
      ],
      "metadata": {
        "id": "NRxHs21wJWIN"
      }
    }
  ]
}